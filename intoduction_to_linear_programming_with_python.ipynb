{
 "cells": [
  {
   "cell_type": "markdown",
   "metadata": {},
   "source": [
    "## Introduction to Linear Programming with Python"
   ]
  },
  {
   "cell_type": "markdown",
   "metadata": {},
   "source": [
    "### What is [Linear Programming (LP)](https://en.wikipedia.org/wiki/Linear_programming)?\n",
    "\n",
    "A linear program is a mathematical optimization model that has a linear objective function and a set of linear constraints. It is simple yet a very powerful tool to enable mathematical decision making under constraints. \n",
    "\n",
    "- **Understand the problem** :) \n",
    "- **Define decision variables**: our choices that are under our control, the unknowns of our problem.\n",
    "- **Define objective & objective function**: a criterion that we wish to minimize (e.g., cost) or maximize (e.g., profit)\n",
    "- **Define constraints**: the limitations that restrict our choices for decision variables.\n",
    "\n",
    "Any LP problem with 2 variables can be solved graphically by plotting the constraint equations and narrowing down the feasible region to find the optimum values of the decision variables..\n",
    "\n",
    "<img src=\"images/feasible_region.png\" alt=\"feasible_reg\" style=\"width: 300px;\" />\n",
    "\n",
    "A lot of situations we come across in everyday life have processes that follow linear relationships with several day to day factors. As such, linear programming finds in application in many unique ways and in different domains of science and technology such as routing and logistics, financial planning, manufacturing, product mix etc. \n",
    "\n",
    "Here in this notebook we will see an introduction to linear programming, how to use LP framework in Python using [PuLP](https://pythonhosted.org/PuLP/) by giving simple examples and a real life example of optimizing everyday life. \n",
    "\n",
    "Once we properly translate the problem with algebraic expressions, we can find solutions to relevant everyday problems. \n",
    "\n"
   ]
  },
  {
   "cell_type": "code",
   "execution_count": null,
   "metadata": {},
   "outputs": [],
   "source": [
    "import sys\n",
    "print(\"Python version: \", sys.version[:5])"
   ]
  },
  {
   "cell_type": "code",
   "execution_count": null,
   "metadata": {},
   "outputs": [],
   "source": [
    "! pip freeze | grep PuLP\n",
    "! pip freeze | grep pandas\n",
    "! pip freeze | grep numpy\n",
    "! pip freeze | grep seaborn\n",
    "! pip freeze | grep matplotlib"
   ]
  },
  {
   "cell_type": "code",
   "execution_count": null,
   "metadata": {},
   "outputs": [],
   "source": [
    "# ! pip install pulp\n",
    "# ! pip install \n",
    "# ! pip install unidecode"
   ]
  },
  {
   "cell_type": "code",
   "execution_count": null,
   "metadata": {},
   "outputs": [],
   "source": [
    "from pulp import *\n",
    "import pandas as pd\n",
    "\n",
    "%matplotlib inline\n",
    "\n",
    "import numpy as np\n",
    "import matplotlib.pyplot as plt\n",
    "plt.style.use('ggplot')\n",
    "import seaborn as sns\n",
    "import unidecode\n",
    "import re\n",
    "\n",
    "import warnings\n",
    "warnings.filterwarnings('ignore')\n",
    "\n",
    "from IPython.display import display\n",
    "\n",
    "# various options in pandas\n",
    "pd.set_option('display.max_columns', None)\n",
    "pd.set_option('display.max_rows', 25)\n",
    "pd.set_option('display.precision', 3)\n",
    "plt.rcParams['figure.figsize'] = (12, 6)"
   ]
  },
  {
   "cell_type": "markdown",
   "metadata": {},
   "source": [
    "### Let's start with a simple example: \n",
    "\n",
    "You are taking a test in which items of type A are worth 10 points and items of type B are worth 15 points. \n",
    "It takes 3 minutes for each item of type A and 6 minutes for each item of type B. \n",
    "Total time allowed is 60 minutes, and you may not answer more than 16 questions. \n",
    "Assuming all your answers are correct, \n",
    "how many items of each type should you answer in order to get the best score?\n",
    "\n",
    "<img src=\"images/test.jpg\" alt=\"test\" style=\"width: 900px;\" />"
   ]
  },
  {
   "cell_type": "markdown",
   "metadata": {},
   "source": [
    "#### Solution with using PuLP :"
   ]
  },
  {
   "cell_type": "code",
   "execution_count": null,
   "metadata": {},
   "outputs": [],
   "source": [
    "#define variables\n",
    "x1 = LpVariable('x1', lowBound=0, cat='Integer') # number of type A questions\n",
    "x2 = LpVariable('x2', lowBound=0, cat='Integer') # number of type B questions\n",
    "\n",
    "#objective & objective function\n",
    "prob = LpProblem(\"test\", LpMaximize) \n",
    "prob += 10*x1+15*x2 \n",
    "\n",
    "#these are constraints and not an objective as there is a equality/inequality\n",
    "prob += 3*x1+6*x2 <= 60\n",
    "prob += x1+x2 <= 16\n",
    "\n",
    "prob.writeLP(\"test.lp\")\n",
    "print(prob)"
   ]
  },
  {
   "cell_type": "code",
   "execution_count": null,
   "metadata": {},
   "outputs": [],
   "source": [
    "print(prob.variables())\n",
    "print(prob.objective)\n",
    "print(prob.constraints)\n",
    "\n",
    "# print(LpStatus)\n",
    "print(LpStatus[prob.status])\n",
    "\n",
    "print(x1.name, \"=\", x1.varValue)\n",
    "print(x2.name, \"=\", x2.varValue)\n",
    "print(x1.cat, x2.cat)\n",
    "\n",
    "print(value(prob.objective))"
   ]
  },
  {
   "cell_type": "code",
   "execution_count": null,
   "metadata": {},
   "outputs": [],
   "source": [
    "#solve\n",
    "prob.solve()\n",
    "\n",
    "print(\"Status:\", LpStatus[prob.status])\n",
    "\n",
    "print (\"\\nIndividual decision_variables: \")\n",
    "for v in prob.variables():\n",
    "    print(v.name, \"=\", v.varValue)\n",
    "    \n",
    "print (\"\\nValue of the obj function: \")\n",
    "print(value(prob.objective))"
   ]
  },
  {
   "cell_type": "markdown",
   "metadata": {},
   "source": [
    "### Example 2: Giapetto\n",
    "\n",
    "<img src=\"images/giapetto.jpeg\" alt=\"giapetto\" style=\"width: 300px;\" />\n",
    "\n",
    "Giapetto, Inc. manufactures wooden toys and tables for kids. The manufacturer wants to maximize their weekly profit. \\\\$20 of profit per wooden toy and \\\\$30 of profit per table. A toy requires 1 hour of finishing labor and 2 hours of carpentry labor. A table requires 2 hours of finishing labor and 1 hour of carpentry labor. \n",
    "Each week, Giapetto has only 100 finishing hours and 100 carpentry hours available. "
   ]
  },
  {
   "cell_type": "code",
   "execution_count": null,
   "metadata": {},
   "outputs": [],
   "source": [
    "x1 = LpVariable(\"x1\", lowBound=0) # Create a variable x1 >= 0\n",
    "x2 = LpVariable(\"x2\", lowBound=0) # Create another variable x2 >= 0\n",
    "\n",
    "prob = LpProblem(\"giapetto\", LpMaximize)  # Create a LP maximization problem\n",
    "\n",
    "prob += 20*x1 + 30*x2  # Objective function\n",
    "\n",
    "prob += 1*x1 + 2*x2 <= 100  # Finishing hours - constraint #1\n",
    "prob += 2*x1 + 1*x2 <= 100  # Carpentry hours - constraint #2\n",
    "\n",
    "prob.writeLP(\"giapetto.lp\")\n",
    "print(prob)  # Display the LP problem"
   ]
  },
  {
   "cell_type": "code",
   "execution_count": null,
   "metadata": {},
   "outputs": [],
   "source": [
    "#solve\n",
    "prob.solve()\n",
    "\n",
    "print(\"Status:\", LpStatus[prob.status])\n",
    "\n",
    "print (\"Individual decision_variables: \")\n",
    "for v in prob.variables():\n",
    "    print(v.name, \"=\", v.varValue)\n",
    "    \n",
    "print (\"Value of the obj function: \")\n",
    "print(value(prob.objective))"
   ]
  },
  {
   "cell_type": "markdown",
   "metadata": {},
   "source": [
    "#### Integer Linear Programming (ILP)"
   ]
  },
  {
   "cell_type": "code",
   "execution_count": null,
   "metadata": {},
   "outputs": [],
   "source": [
    "x1 = LpVariable(\"x1\", lowBound=0, cat='Integer') # Create a variable x1 >= 0\n",
    "x2 = LpVariable(\"x2\", lowBound=0, cat='Integer') # Create another variable x2 >= 0\n",
    "\n",
    "prob = LpProblem(\"giapetto2\", LpMaximize)  # Create a LP maximization problem\n",
    "\n",
    "prob += 20*x1 + 30*x2  # Objective function\n",
    "\n",
    "prob += 1*x1 + 2*x2 <= 100  # Finishing hours - constraint #1\n",
    "prob += 2*x1 + 1*x2 <= 100  # Carpentry hours - constraint #2\n",
    "\n",
    "prob.writeLP(\"giapetto2.lp\")\n",
    "print(prob) #Display the LP problem"
   ]
  },
  {
   "cell_type": "code",
   "execution_count": null,
   "metadata": {},
   "outputs": [],
   "source": [
    "#solve\n",
    "prob.solve()\n",
    "\n",
    "print(\"Status:\", LpStatus[prob.status])\n",
    "\n",
    "print (\"Individual decision_variables: \")\n",
    "for v in prob.variables():\n",
    "    print(v.name, \"=\", v.varValue)\n",
    "    \n",
    "print (\"Value of the obj function: \")\n",
    "print(value(prob.objective))"
   ]
  },
  {
   "cell_type": "markdown",
   "metadata": {},
   "source": [
    "### Example 3: Snack Bar\n",
    "\n",
    "<img src=\"images/snack.png\" alt=\"snack\" style=\"width: 200px;\" />\n",
    "\n",
    "A snack bar cooks and sells hamburgers and hot dogs during football games. To stay in business it must sell at least 10 hamburgers but cannot cook more than 40. It must also sell at least 30 hot dogs but cannot cook more than 70. It cannot cook more than 90 sandwiches all together. The profit on a hamburger is \\\\$0.33 and \\\\$0.21 on a hot dog. How many of each kind of sandwich should the stand sell to make the maximum profit?"
   ]
  },
  {
   "cell_type": "code",
   "execution_count": null,
   "metadata": {},
   "outputs": [],
   "source": [
    "#define variables\n",
    "x = LpVariable('x', lowBound=10, upBound=40, cat='Integer') # number of hamburgers\n",
    "y = LpVariable('y', lowBound=30, upBound=70, cat='Integer') # number of hotdogs \n",
    "\n",
    "#objective & objective function\n",
    "prob = LpProblem(\"snack\", LpMaximize) \n",
    "prob += 0.33*x+0.21*y\n",
    "\n",
    "#constraints \n",
    "# prob += x <= 40\n",
    "# prob += x >= 10\n",
    "# prob += x <= 70\n",
    "# prob += x >= 30\n",
    "prob += x+y <= 90\n",
    "\n",
    "prob.writeLP(\"snack.lp\")\n",
    "print(prob)"
   ]
  },
  {
   "cell_type": "code",
   "execution_count": null,
   "metadata": {},
   "outputs": [],
   "source": [
    "#solve\n",
    "prob.solve()\n",
    "\n",
    "print(\"Status:\", LpStatus[prob.status])\n",
    "\n",
    "print (\"Individual decision_variables: \")\n",
    "for v in prob.variables():\n",
    "    print(v.name, \"=\", v.varValue)\n",
    "    \n",
    "print (\"Value of the obj function: \")\n",
    "print(value(prob.objective))"
   ]
  },
  {
   "cell_type": "markdown",
   "metadata": {},
   "source": [
    "### Example 4: Cookies\n",
    "\n",
    "<img src=\"images/cookie.gif\" alt=\"snack\" style=\"width: 400px;\" />\n",
    "\n",
    "Sylvee is going to bake some cookies for next Women Who Code event :) \n",
    "She will make two different kinds, oatmeal-raisin and\n",
    "chocolate chip. It will cost \\\\$1.70 to bake a dozen oatmeal-raisin cookies \n",
    "and \\\\$1.20 per dozen for chocolate chip cookies. The number of chocolate chip cookies must\n",
    "be at least twice the number of oatmeal-raisin cookies. She\n",
    "will bake at least six dozen cookies total, with no more\n",
    "than five dozen chocolate chip.\n",
    "What is the minimum cost to bake the cookies? \n",
    "How many dozens of each kind will she be able to bake for that cost? "
   ]
  },
  {
   "cell_type": "code",
   "execution_count": null,
   "metadata": {},
   "outputs": [],
   "source": []
  },
  {
   "cell_type": "markdown",
   "metadata": {},
   "source": [
    "### Find the Recipes! 😋"
   ]
  },
  {
   "cell_type": "markdown",
   "metadata": {},
   "source": [
    "\n",
    "Here in this section, we will use [Epicurious](https://www.epicurious.com/) recipes dataset that is available on [Kaggle](https://www.kaggle.com/hugodarwood/epirecipes/version/2)\n",
    "    \n",
    "<table><tr>\n",
    "<td> <img src=\"images/epicurious.png\" alt=\"epi\" style=\"width: 300px;\"/> </td>\n",
    "<td> <img src=\"images/kaggle-logo.png\" alt=\"kaggle\" style=\"width: 300px;\"/> </td>\n",
    "</tr></table>\n",
    "\n",
    "\n",
    "I cleaned the dataset a little bit and we will use a subset of that to find recipes that satisfies our macronutrient requirements we define.\n",
    "\n",
    "**Problem**: We would like to have a x number of 5-star recipes that maximize our protein intake while keeping sodium and calorie intake below a certain level. "
   ]
  },
  {
   "cell_type": "code",
   "execution_count": null,
   "metadata": {},
   "outputs": [],
   "source": [
    "data = pd.read_csv('data.csv')"
   ]
  },
  {
   "cell_type": "code",
   "execution_count": null,
   "metadata": {},
   "outputs": [],
   "source": [
    "# first 5 rows of data\n",
    "print(\"\\n First 5 rows: \")\n",
    "display(data.head())\n",
    "\n",
    "# size of the dataset\n",
    "print(\"Number of rows:\", data.shape[0]) \n",
    "print(\"Number of columns: \", data.shape[1])\n",
    "\n",
    "# checking data types in each column\n",
    "print(\"\\n Data Types: \")\n",
    "print(data.dtypes)\n",
    "\n",
    "# checking missing values across dataset\n",
    "print(\"\\n Missing Values: \")\n",
    "print(data.isna().sum())\n",
    "\n",
    "# summary statistics\n",
    "print(\"\\n Summary Statistics:\")\n",
    "display(data.describe())"
   ]
  },
  {
   "cell_type": "code",
   "execution_count": null,
   "metadata": {},
   "outputs": [],
   "source": [
    "data.rating.value_counts().sort_index()"
   ]
  },
  {
   "cell_type": "markdown",
   "metadata": {},
   "source": [
    "Take 5-Star recipes and exclude relatively high sodium and calorie ones to create the candidate recipes to choose from:"
   ]
  },
  {
   "cell_type": "code",
   "execution_count": null,
   "metadata": {},
   "outputs": [],
   "source": [
    "five_star = data[data['rating'] == 5]\n",
    "\n",
    "print('We have {:,} 5-star recipes'.format(len(five_star)))"
   ]
  },
  {
   "cell_type": "code",
   "execution_count": null,
   "metadata": {},
   "outputs": [],
   "source": [
    "a = pd.qcut(five_star['calories'], [0,.33,.66,1], labels=['low','med','high']).rename('cal_class')\n",
    "b = pd.qcut(five_star['sodium'], [0,.33,.66,1], labels=['low','med','high']).rename('sod_class')\n",
    "\n",
    "five_star = five_star.join(a).join(b)"
   ]
  },
  {
   "cell_type": "code",
   "execution_count": null,
   "metadata": {},
   "outputs": [],
   "source": [
    "five_star.head()"
   ]
  },
  {
   "cell_type": "code",
   "execution_count": null,
   "metadata": {},
   "outputs": [],
   "source": [
    "display(five_star.groupby('cal_class').agg([np.mean, np.median]))\n",
    "\n",
    "fig,ax = plt.subplots(1,2,figsize = (15,4)) \n",
    "\n",
    "sns.boxplot(y=\"cal_class\", x=\"calories\", data=five_star, ax=ax[0], palette=\"Set2\");\n",
    "ax[0].set_title(\"Boxplot of Calories for 5-Star Recipes\");\n",
    "ax[0].set_xlabel('Calories');\n",
    "\n",
    "sns.boxplot(y=\"cal_class\", x=\"protein\", data=five_star, ax=ax[1], palette=\"Set2\");\n",
    "ax[1].set_title(\"Boxplot of Protein for 5-Star Recipes\");\n",
    "ax[1].set_xlabel('Protein');"
   ]
  },
  {
   "cell_type": "code",
   "execution_count": null,
   "metadata": {},
   "outputs": [],
   "source": [
    "display(five_star.groupby('sod_class').agg([np.mean, np.median]))\n",
    "\n",
    "fig,ax = plt.subplots(1,2,figsize = (15,4)) \n",
    "\n",
    "sns.boxplot(y=\"sod_class\", x=\"sodium\", data=five_star, ax=ax[0], palette=\"Set2\");\n",
    "ax[0].set_title(\"Boxplot of Sodium for 5-Star Recipes\");\n",
    "ax[0].set_xlabel('Sodium');\n",
    "\n",
    "sns.boxplot(y=\"sod_class\", x=\"protein\", data=five_star, ax=ax[1], palette=\"Set2\");\n",
    "ax[1].set_title(\"Boxplot of Protein for 5-Star Recipes\");\n",
    "ax[1].set_xlabel('Protein');"
   ]
  },
  {
   "cell_type": "code",
   "execution_count": null,
   "metadata": {},
   "outputs": [],
   "source": [
    "recipe_pool = five_star[(five_star['sod_class'] != 'high') & (five_star['cal_class'] != 'high')]\n",
    "\n",
    "print('When we exclude high sodium and high calorie ones, there are {:,} 5-star recipes to choose from'.format(len(recipe_pool)))\n"
   ]
  },
  {
   "cell_type": "code",
   "execution_count": null,
   "metadata": {},
   "outputs": [],
   "source": [
    "recipe_pool.title.value_counts().sort_values(ascending=False).head()"
   ]
  },
  {
   "cell_type": "code",
   "execution_count": null,
   "metadata": {},
   "outputs": [],
   "source": [
    "recipe_pool.head()"
   ]
  },
  {
   "cell_type": "markdown",
   "metadata": {},
   "source": [
    "Some text manipulation:"
   ]
  },
  {
   "cell_type": "code",
   "execution_count": null,
   "metadata": {},
   "outputs": [],
   "source": [
    "df = recipe_pool.copy()\n",
    "\n",
    "df['title'] = df['title'].map(lambda x: unidecode.unidecode(x).lower())\n",
    "\n",
    "def remove_punctuations(text):\n",
    "    for punctuation in string.punctuation:\n",
    "        text = text.replace(punctuation, \" \")\n",
    "    return text\n",
    "\n",
    "df['title'] = df['title'].apply(remove_punctuations)\n",
    "df['title'] = df['title'].map(lambda x: re.sub(\"\\s\\s+\" , \" \", x.strip()))"
   ]
  },
  {
   "cell_type": "code",
   "execution_count": null,
   "metadata": {},
   "outputs": [],
   "source": [
    "df.title.value_counts().sort_values(ascending=False).head()"
   ]
  },
  {
   "cell_type": "markdown",
   "metadata": {},
   "source": [
    "Variable names should be all unique!"
   ]
  },
  {
   "cell_type": "code",
   "execution_count": null,
   "metadata": {},
   "outputs": [],
   "source": [
    "df.drop_duplicates('title' ,inplace=True)"
   ]
  },
  {
   "cell_type": "code",
   "execution_count": null,
   "metadata": {},
   "outputs": [],
   "source": [
    "print(df.shape)\n",
    "df.head()"
   ]
  },
  {
   "cell_type": "markdown",
   "metadata": {},
   "source": [
    "### Setting up the LP Problem:"
   ]
  },
  {
   "cell_type": "markdown",
   "metadata": {},
   "source": [
    "Let's initialize the problem with the objective:"
   ]
  },
  {
   "cell_type": "code",
   "execution_count": null,
   "metadata": {},
   "outputs": [],
   "source": [
    "lp_model = pulp.LpProblem('The Diet Problem', pulp.LpMaximize)"
   ]
  },
  {
   "cell_type": "code",
   "execution_count": null,
   "metadata": {},
   "outputs": [],
   "source": [
    "recipes = df['title'].tolist()\n",
    "calories = df['calories'].tolist()\n",
    "protein = df['protein'].tolist()\n",
    "sodium = df['sodium'].tolist()"
   ]
  },
  {
   "cell_type": "code",
   "execution_count": null,
   "metadata": {
    "scrolled": true
   },
   "outputs": [],
   "source": [
    "# recipes"
   ]
  },
  {
   "cell_type": "markdown",
   "metadata": {},
   "source": [
    "Identify variables: "
   ]
  },
  {
   "cell_type": "code",
   "execution_count": null,
   "metadata": {},
   "outputs": [],
   "source": [
    "# Creates a dictionary of LP variables\n",
    "# This function creates a dictionary of LP Variables with the specified associated parameters.\n",
    "\n",
    "x = pulp.LpVariable.dict('x_%s', recipes, lowBound=0, upBound = 1, cat='Binary')\n",
    "\n",
    "print(type(x))\n",
    "# print(x)"
   ]
  },
  {
   "cell_type": "code",
   "execution_count": null,
   "metadata": {
    "scrolled": true
   },
   "outputs": [],
   "source": [
    "# for key,value in x.items():\n",
    "#         print(value)"
   ]
  },
  {
   "cell_type": "code",
   "execution_count": null,
   "metadata": {},
   "outputs": [],
   "source": [
    "print('Number of variables: ', len(x.values()))"
   ]
  },
  {
   "cell_type": "code",
   "execution_count": null,
   "metadata": {},
   "outputs": [],
   "source": [
    "x.get('breakfast bowl with quinoa and berries')"
   ]
  },
  {
   "cell_type": "code",
   "execution_count": null,
   "metadata": {},
   "outputs": [],
   "source": [
    "cal = dict(zip(recipes, calories))\n",
    "prot = dict(zip(recipes, protein))\n",
    "sod = dict(zip(recipes, sodium))"
   ]
  },
  {
   "cell_type": "code",
   "execution_count": null,
   "metadata": {},
   "outputs": [],
   "source": [
    "# prot"
   ]
  },
  {
   "cell_type": "code",
   "execution_count": null,
   "metadata": {},
   "outputs": [],
   "source": [
    "print(cal.get('breakfast bowl with quinoa and berries'))\n",
    "print(prot.get('breakfast bowl with quinoa and berries'))\n",
    "print(sod.get('breakfast bowl with quinoa and berries'))"
   ]
  },
  {
   "cell_type": "code",
   "execution_count": null,
   "metadata": {},
   "outputs": [],
   "source": [
    "# add objective function to the model - maximize total protein intake\n",
    "lp_model += sum([prot[i] * x[i] for i in recipes]) "
   ]
  },
  {
   "cell_type": "code",
   "execution_count": null,
   "metadata": {},
   "outputs": [],
   "source": [
    "#constraints\n",
    "lp_model += sum([cal[i]*x[i] for i in recipes]) <= 2000 # keep total cal <= 2000 kcal\n",
    "lp_model += sum([sod[i]*x[i] for i in recipes]) <= 1500 # keep total sod <= 1500 mg\n",
    "lp_model += sum([x[i] for i in x.keys()]) <= 4 # return 4 or less recipes "
   ]
  },
  {
   "cell_type": "code",
   "execution_count": null,
   "metadata": {},
   "outputs": [],
   "source": [
    "print(lp_model)\n",
    "lp_model.writeLP(\"find_recipes.lp\")"
   ]
  },
  {
   "cell_type": "code",
   "execution_count": null,
   "metadata": {},
   "outputs": [],
   "source": [
    "#solve\n",
    "lp_model.solve()\n",
    "\n",
    "print(\"Status:\", LpStatus[lp_model.status])\n",
    "print (\"Individual decision_variables: \")\n",
    "for v in lp_model.variables():\n",
    "    print(v.name, \"=\", v.varValue)"
   ]
  },
  {
   "cell_type": "markdown",
   "metadata": {},
   "source": [
    "☝️This way is hard to read. Let's put the output into a pandas dataframe:"
   ]
  },
  {
   "cell_type": "code",
   "execution_count": null,
   "metadata": {},
   "outputs": [],
   "source": [
    "variable_name = []\n",
    "variable_value = []\n",
    "\n",
    "for v in lp_model.variables():\n",
    "    variable_name.append(v.name)\n",
    "    variable_value.append(v.varValue)\n",
    "\n",
    "df2 = pd.DataFrame({'title': variable_name, 'decision': variable_value})"
   ]
  },
  {
   "cell_type": "code",
   "execution_count": null,
   "metadata": {},
   "outputs": [],
   "source": [
    "display(df2.head())\n",
    "display(df.head())"
   ]
  },
  {
   "cell_type": "code",
   "execution_count": null,
   "metadata": {},
   "outputs": [],
   "source": [
    "# more text cleaning to merge dataframes \n",
    "df2['title'] = df2['title'].str[2:].str.replace('_', ' ').str.strip()"
   ]
  },
  {
   "cell_type": "code",
   "execution_count": null,
   "metadata": {},
   "outputs": [],
   "source": [
    "df2.head()"
   ]
  },
  {
   "cell_type": "code",
   "execution_count": null,
   "metadata": {},
   "outputs": [],
   "source": [
    "m = pd.merge(df2, df, how='left', on='title')"
   ]
  },
  {
   "cell_type": "code",
   "execution_count": null,
   "metadata": {},
   "outputs": [],
   "source": [
    "print(m.shape)\n",
    "print(df.shape)\n",
    "print(df2.shape)\n",
    "m.head()"
   ]
  },
  {
   "cell_type": "code",
   "execution_count": null,
   "metadata": {},
   "outputs": [],
   "source": [
    "m[m['decision'] == 1]"
   ]
  },
  {
   "cell_type": "code",
   "execution_count": null,
   "metadata": {},
   "outputs": [],
   "source": [
    "print(\"Total Protein Intake: \", m[m['decision'] == 1].protein.sum(), ' grams')\n",
    "print(\"Total Calories Intake: \", m[m['decision'] == 1].calories.sum(), ' kcal')\n",
    "print(\"Total Sodium Intake: \", m[m['decision'] == 1].sodium.sum(), ' miligrams')"
   ]
  },
  {
   "cell_type": "markdown",
   "metadata": {},
   "source": [
    "<img src=\"images/thatsallfolks.gif\" alt=\"all\" style=\"width: 300px;\" />"
   ]
  },
  {
   "cell_type": "markdown",
   "metadata": {},
   "source": [
    "## Keep Calm and Optimize On 🤓 \n",
    "\n",
    "### Thank you! ❤️"
   ]
  }
 ],
 "metadata": {
  "kernelspec": {
   "display_name": "Python 3",
   "language": "python",
   "name": "python3"
  },
  "language_info": {
   "codemirror_mode": {
    "name": "ipython",
    "version": 3
   },
   "file_extension": ".py",
   "mimetype": "text/x-python",
   "name": "python",
   "nbconvert_exporter": "python",
   "pygments_lexer": "ipython3",
   "version": "3.7.0"
  }
 },
 "nbformat": 4,
 "nbformat_minor": 2
}
